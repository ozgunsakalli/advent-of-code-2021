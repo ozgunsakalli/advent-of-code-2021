{
 "cells": [
  {
   "cell_type": "markdown",
   "metadata": {},
   "source": [
    "Advent of Code 2021 - Day 4\n",
    "\n",
    "Part 1:\n",
    "The score of the winning board can now be calculated. Start by finding the sum of all unmarked numbers on that board. Then, multiply that sum by the number that was just called when the board won, to get the final score.\n",
    "\n",
    "To guarantee victory against the giant squid, figure out which board will win first. What will your final score be if you choose that board?"
   ]
  },
  {
   "cell_type": "code",
   "execution_count": 26,
   "metadata": {},
   "outputs": [],
   "source": [
    "import numpy as np"
   ]
  },
  {
   "cell_type": "code",
   "execution_count": 23,
   "metadata": {},
   "outputs": [],
   "source": [
    "with open('input_day4.txt', 'rt') as f:\n",
    "    data = f.readlines()\n",
    "\n",
    "data = [item.rstrip() for item in data]"
   ]
  },
  {
   "cell_type": "code",
   "execution_count": 24,
   "metadata": {},
   "outputs": [
    {
     "name": "stdout",
     "output_type": "stream",
     "text": [
      "[31, 50, 79, 59, 39, 53, 58, 95, 92, 55, 40, 97, 81, 22, 69, 26, 6, 23, 3, 29, 83, 48, 18, 75, 47, 49, 62, 45, 35, 34, 1, 88, 54, 16, 56, 77, 28, 94, 52, 15, 0, 87, 93, 90, 60, 67, 68, 85, 80, 51, 20, 96, 61, 66, 63, 91, 8, 99, 70, 13, 71, 17, 7, 38, 44, 43, 5, 25, 72, 2, 57, 33, 82, 78, 89, 21, 30, 11, 73, 84, 4, 46, 14, 19, 12, 10, 42, 32, 64, 98, 9, 74, 86, 27, 24, 65, 37, 41, 76, 36]\n"
     ]
    }
   ],
   "source": [
    "numbers = [int(num) for num in data[0].split(',')]\n",
    "print(numbers)"
   ]
  },
  {
   "cell_type": "code",
   "execution_count": 25,
   "metadata": {},
   "outputs": [
    {
     "name": "stdout",
     "output_type": "stream",
     "text": [
      "[['31  5 70  8 88', '38 63 14 91 56', '22 67 17 47 74', '93 52 69 29 53', '33 66 64 19 73'], ['35 63 17 48 77', '25 58 33 14 96', '32 87 90 66 70', '16  4 98 72 23', '19 74 39 29 59']]\n"
     ]
    }
   ],
   "source": [
    "boards = []\n",
    "\n",
    "for line in data[1:]:\n",
    "    if line == '':\n",
    "        boards.append([])\n",
    "    else:\n",
    "        boards[-1].append(line)\n",
    "\n",
    "print(boards[:2])"
   ]
  },
  {
   "cell_type": "code",
   "execution_count": 78,
   "metadata": {},
   "outputs": [],
   "source": [
    "class Board:\n",
    "\n",
    "    def __init__(self, contents):\n",
    "        contents = [[int(num) for num in row.split()] for row in contents]\n",
    "        self.board = np.array(contents)\n",
    "        self.scoreboard = np.zeros(shape = np.shape(self.board))\n",
    "        self.winner = False\n",
    "    \n",
    "    def draw_num(self, num):\n",
    "        self.scoreboard = np.where(self.board == num, 1, self.scoreboard)\n",
    "        self.check_bingo()\n",
    "\n",
    "    def check_bingo(self):\n",
    "        for row in self.scoreboard:\n",
    "            if np.all(row == 1):\n",
    "                self.winner = True\n",
    "        \n",
    "        for column in self.scoreboard.transpose():\n",
    "            if np.all(column == 1):\n",
    "                self.winner = True        \n"
   ]
  },
  {
   "cell_type": "code",
   "execution_count": 79,
   "metadata": {},
   "outputs": [],
   "source": [
    "my_boards = []\n",
    "for board in boards:\n",
    "    my_boards.append(Board(board))"
   ]
  },
  {
   "cell_type": "code",
   "execution_count": 80,
   "metadata": {},
   "outputs": [],
   "source": [
    "for num in numbers:\n",
    "    for my_board in my_boards:\n",
    "        my_board.draw_num(num)\n",
    "\n",
    "        if my_board.winner:\n",
    "            break\n",
    "    \n",
    "    else:\n",
    "        continue    # only executed if the inner loop did NOT break\n",
    "\n",
    "    break   # only executed if the inner loop DID break"
   ]
  },
  {
   "cell_type": "code",
   "execution_count": 83,
   "metadata": {},
   "outputs": [
    {
     "data": {
      "text/plain": [
       "array([[0., 1., 0., 0., 1.],\n",
       "       [0., 0., 0., 0., 0.],\n",
       "       [1., 1., 1., 1., 1.],\n",
       "       [0., 0., 0., 1., 0.],\n",
       "       [1., 1., 0., 0., 0.]])"
      ]
     },
     "execution_count": 83,
     "metadata": {},
     "output_type": "execute_result"
    }
   ],
   "source": [
    "my_board.scoreboard"
   ]
  },
  {
   "cell_type": "code",
   "execution_count": 85,
   "metadata": {},
   "outputs": [
    {
     "data": {
      "text/plain": [
       "array([[41,  0, 44,  2,  0],\n",
       "       [38, 14, 19, 72, 64],\n",
       "       [ 0,  0,  0,  0,  0],\n",
       "       [70,  7,  1,  0, 86],\n",
       "       [ 0,  0, 90, 96, 82]])"
      ]
     },
     "execution_count": 85,
     "metadata": {},
     "output_type": "execute_result"
    }
   ],
   "source": [
    "my_board.unmarked = np.where(my_board.scoreboard == 0, my_board.board, 0)\n",
    "my_board.unmarked\n"
   ]
  },
  {
   "cell_type": "code",
   "execution_count": 87,
   "metadata": {},
   "outputs": [
    {
     "name": "stdout",
     "output_type": "stream",
     "text": [
      "726 35\n"
     ]
    }
   ],
   "source": [
    "my_sum = np.sum(my_board.unmarked)\n",
    "print(my_sum, num)"
   ]
  },
  {
   "cell_type": "code",
   "execution_count": 88,
   "metadata": {},
   "outputs": [
    {
     "name": "stdout",
     "output_type": "stream",
     "text": [
      "25410\n"
     ]
    }
   ],
   "source": [
    "# Part 1 answer\n",
    "print(my_sum * num)"
   ]
  },
  {
   "cell_type": "markdown",
   "metadata": {},
   "source": [
    "Part 2: Figure out which board will win last. Once it wins, what would its final score be?"
   ]
  },
  {
   "cell_type": "code",
   "execution_count": 107,
   "metadata": {},
   "outputs": [
    {
     "name": "stdout",
     "output_type": "stream",
     "text": [
      "Got a winner! 35\n",
      "Got a winner! 77\n",
      "Got a winner! 77\n",
      "Got a winner! 15\n",
      "Got a winner! 15\n",
      "Got a winner! 0\n",
      "Got a winner! 0\n",
      "Got a winner! 0\n",
      "Got a winner! 87\n",
      "Got a winner! 87\n",
      "Got a winner! 93\n",
      "Got a winner! 93\n",
      "Got a winner! 93\n",
      "Got a winner! 90\n",
      "Got a winner! 90\n",
      "Got a winner! 90\n",
      "Got a winner! 60\n",
      "Got a winner! 60\n",
      "Got a winner! 60\n",
      "Got a winner! 60\n",
      "Got a winner! 67\n",
      "Got a winner! 67\n",
      "Got a winner! 68\n",
      "Got a winner! 80\n",
      "Got a winner! 51\n",
      "Got a winner! 20\n",
      "Got a winner! 96\n",
      "Got a winner! 61\n",
      "Got a winner! 61\n",
      "Got a winner! 61\n",
      "Got a winner! 61\n",
      "Got a winner! 61\n",
      "Got a winner! 66\n",
      "Got a winner! 66\n",
      "Got a winner! 63\n",
      "Got a winner! 63\n",
      "Got a winner! 63\n",
      "Got a winner! 63\n",
      "Got a winner! 63\n",
      "Got a winner! 63\n",
      "Got a winner! 8\n",
      "Got a winner! 8\n",
      "Got a winner! 8\n",
      "Got a winner! 8\n",
      "Got a winner! 99\n",
      "Got a winner! 70\n",
      "Got a winner! 70\n",
      "Got a winner! 70\n",
      "Got a winner! 13\n",
      "Got a winner! 13\n",
      "Got a winner! 13\n",
      "Got a winner! 13\n",
      "Got a winner! 13\n",
      "Got a winner! 17\n",
      "Got a winner! 17\n",
      "Got a winner! 17\n",
      "Got a winner! 7\n",
      "Got a winner! 7\n",
      "Got a winner! 7\n",
      "Got a winner! 38\n",
      "Got a winner! 38\n",
      "Got a winner! 38\n",
      "Got a winner! 44\n",
      "Got a winner! 44\n",
      "Got a winner! 43\n",
      "Got a winner! 43\n",
      "Got a winner! 43\n",
      "Got a winner! 5\n",
      "Got a winner! 5\n",
      "Got a winner! 25\n",
      "Got a winner! 25\n",
      "Got a winner! 25\n",
      "Got a winner! 25\n",
      "Got a winner! 25\n",
      "Got a winner! 25\n",
      "Got a winner! 72\n",
      "Got a winner! 72\n",
      "Got a winner! 72\n",
      "Got a winner! 72\n",
      "Got a winner! 2\n",
      "Got a winner! 57\n",
      "Got a winner! 57\n",
      "Got a winner! 33\n",
      "Got a winner! 33\n",
      "Got a winner! 33\n",
      "Got a winner! 82\n",
      "Got a winner! 82\n",
      "Got a winner! 82\n",
      "Got a winner! 82\n",
      "Got a winner! 82\n",
      "Got a winner! 82\n",
      "Got a winner! 78\n",
      "Got a winner! 89\n",
      "Got a winner! 89\n",
      "Got a winner! 21\n",
      "Got a winner! 30\n",
      "Got a winner! 11\n",
      "Got a winner! 73\n",
      "Got a winner! 84\n",
      "Got a winner! 14\n",
      "195 14\n"
     ]
    }
   ],
   "source": [
    "my_boards = []\n",
    "for board in boards:\n",
    "    my_boards.append(Board(board))\n",
    "\n",
    "for num in numbers:\n",
    "    # print('Testing num: ', num)\n",
    "    for my_board in my_boards:\n",
    "\n",
    "        if not my_board.winner:\n",
    "            my_board.draw_num(num)\n",
    "\n",
    "            if my_board.winner:\n",
    "                print('Got a winner!', num)\n",
    "\n",
    "            if all([my_board.winner for my_board in my_boards]):\n",
    "                break\n",
    "    \n",
    "    else:\n",
    "        continue    # only executed if the inner loop did NOT break\n",
    "\n",
    "    break   # only executed if the inner loop DID break\n",
    "\n",
    "my_board.unmarked = np.where(my_board.scoreboard == 0, my_board.board, 0)\n",
    "my_sum = np.sum(my_board.unmarked)\n",
    "print(my_sum, num)"
   ]
  },
  {
   "cell_type": "code",
   "execution_count": 108,
   "metadata": {},
   "outputs": [
    {
     "data": {
      "text/plain": [
       "array([[0., 1., 1., 1., 1.],\n",
       "       [1., 1., 0., 1., 0.],\n",
       "       [1., 0., 1., 1., 1.],\n",
       "       [1., 1., 1., 1., 1.],\n",
       "       [1., 1., 0., 1., 1.]])"
      ]
     },
     "execution_count": 108,
     "metadata": {},
     "output_type": "execute_result"
    }
   ],
   "source": [
    "my_board.scoreboard"
   ]
  },
  {
   "cell_type": "code",
   "execution_count": 109,
   "metadata": {},
   "outputs": [
    {
     "name": "stdout",
     "output_type": "stream",
     "text": [
      "2730\n"
     ]
    }
   ],
   "source": [
    "# Part 2 answer\n",
    "print(my_sum * num)"
   ]
  },
  {
   "cell_type": "code",
   "execution_count": null,
   "metadata": {},
   "outputs": [],
   "source": []
  }
 ],
 "metadata": {
  "interpreter": {
   "hash": "eba099742b16c1a801018f9ec5e68f8b267860b368a61108a6c02531e2422e4a"
  },
  "kernelspec": {
   "display_name": "Python 3.9.7 64-bit",
   "language": "python",
   "name": "python3"
  },
  "language_info": {
   "codemirror_mode": {
    "name": "ipython",
    "version": 3
   },
   "file_extension": ".py",
   "mimetype": "text/x-python",
   "name": "python",
   "nbconvert_exporter": "python",
   "pygments_lexer": "ipython3",
   "version": "3.9.7"
  },
  "orig_nbformat": 4
 },
 "nbformat": 4,
 "nbformat_minor": 2
}
