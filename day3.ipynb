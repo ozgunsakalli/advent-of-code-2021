{
 "cells": [
  {
   "cell_type": "markdown",
   "metadata": {},
   "source": [
    "Advent of Code 2021 - Day 3\n",
    "\n",
    "Part 1: \n",
    "\n",
    "Each bit in the gamma rate can be determined by finding the most common bit in the corresponding position of all numbers in the diagnostic report.\n",
    "\n",
    "The epsilon rate is calculated in a similar way; rather than use the most common bit, the least common bit from each position is used.\n",
    "\n",
    "Use the binary numbers in your diagnostic report to calculate the gamma rate and epsilon rate, then multiply them together. What is the power consumption of the submarine? (Be sure to represent your answer in decimal, not binary.)"
   ]
  },
  {
   "cell_type": "code",
   "execution_count": 4,
   "metadata": {},
   "outputs": [],
   "source": [
    "import collections"
   ]
  },
  {
   "cell_type": "code",
   "execution_count": 3,
   "metadata": {},
   "outputs": [
    {
     "name": "stdout",
     "output_type": "stream",
     "text": [
      "['000001000101', '101011100101', '100011100110', '101001111000', '000001000110', '000110100010', '100010101110', '000011001110', '110001101011', '101100110111']\n"
     ]
    }
   ],
   "source": [
    "with open('input_day3.txt', 'rt') as f:\n",
    "    data = f.readlines()\n",
    "\n",
    "data = [item.rstrip() for item in data]\n",
    "\n",
    "print(data[:10])"
   ]
  },
  {
   "cell_type": "code",
   "execution_count": 9,
   "metadata": {},
   "outputs": [
    {
     "name": "stdout",
     "output_type": "stream",
     "text": [
      "0111001011100100100101000000011010000011100010000100101111101111010111100111110101100100001111111000111010011011100110001111101111001011101001011000111011011110010000000110000001110110111101011101101111001010101010111111000111011011011001001010100100100011100000000000111011010011111011000000100001011010010000010101001011101100010001100001010010111101110000101000001000000010000110101001111000100000101100111011111100001101000001100110101001001011000101101010100111011100110000011111100001111100100100010110010110011010010111111110011100010101010101111000011010100101110110101000101110010101000000001010101010110011010010011000111001000110100011110101011010001101000000011000101000000110101011100001011100110010001001001000001101110100111011011100100110111001111100010101001000001110011100100100000010000000100011010100011011101100000001101100110011011000100001111111100111111000111111100101101100111110100110100010000111110001111001101101111100100111111011100010010110111100000011010001001011110010\n"
     ]
    }
   ],
   "source": [
    "bits = collections.defaultdict(str)\n",
    "\n",
    "for line in data:\n",
    "    for n, char in enumerate(line):\n",
    "        bits[n] += char\n",
    "\n",
    "print(bits[0])"
   ]
  },
  {
   "cell_type": "code",
   "execution_count": 11,
   "metadata": {},
   "outputs": [
    {
     "name": "stdout",
     "output_type": "stream",
     "text": [
      "000010111101\n"
     ]
    }
   ],
   "source": [
    "gamma = ''\n",
    "\n",
    "for chars in bits.values():\n",
    "    zeros = chars.count('0')\n",
    "    ones = chars.count('1')\n",
    "\n",
    "    if zeros > ones:\n",
    "        gamma += '0'\n",
    "    else:\n",
    "        gamma += '1'\n",
    "\n",
    "print(gamma)"
   ]
  },
  {
   "cell_type": "code",
   "execution_count": 12,
   "metadata": {},
   "outputs": [
    {
     "name": "stdout",
     "output_type": "stream",
     "text": [
      "111101000010\n"
     ]
    }
   ],
   "source": [
    "epsilon = ''\n",
    "\n",
    "for char in gamma:\n",
    "    if char == '0':\n",
    "        epsilon += '1'\n",
    "    else:\n",
    "        epsilon += '0'\n",
    "\n",
    "print(epsilon)"
   ]
  },
  {
   "cell_type": "code",
   "execution_count": 13,
   "metadata": {},
   "outputs": [
    {
     "name": "stdout",
     "output_type": "stream",
     "text": [
      "189 3906\n"
     ]
    }
   ],
   "source": [
    "# converting binary to decimal\n",
    "\n",
    "gamma = int(gamma, 2)\n",
    "epsilon = int(epsilon, 2)\n",
    "\n",
    "print(gamma, epsilon)"
   ]
  },
  {
   "cell_type": "code",
   "execution_count": 14,
   "metadata": {},
   "outputs": [
    {
     "name": "stdout",
     "output_type": "stream",
     "text": [
      "738234\n"
     ]
    }
   ],
   "source": [
    "# Part 1 answer\n",
    "print(gamma * epsilon)"
   ]
  },
  {
   "cell_type": "markdown",
   "metadata": {},
   "source": [
    "Part 2:\n",
    "Use the binary numbers in your diagnostic report to calculate the oxygen generator rating and CO2 scrubber rating, then multiply them together. What is the life support rating of the submarine? (Be sure to represent your answer in decimal, not binary.)"
   ]
  },
  {
   "cell_type": "code",
   "execution_count": 21,
   "metadata": {},
   "outputs": [
    {
     "name": "stdout",
     "output_type": "stream",
     "text": [
      "12\n",
      "['010000101111']\n",
      "8\n",
      "['111001111010']\n"
     ]
    }
   ],
   "source": [
    "def extract_bits(data: list, col:int):\n",
    "\n",
    "    bits = ''\n",
    "\n",
    "    for line in data:\n",
    "        bits += line[col]\n",
    "\n",
    "    return bits\n",
    "\n",
    "\n",
    "def find_common(bits: str, rating='o2'):\n",
    "\n",
    "    zeros = bits.count('0')\n",
    "    ones = bits.count('1')\n",
    "\n",
    "    \n",
    "    if rating == 'o2':\n",
    "        if zeros > ones:\n",
    "            return '0'\n",
    "        else:\n",
    "            return '1'\n",
    "\n",
    "    elif rating == 'co2':\n",
    "        if zeros > ones:\n",
    "            return '1'\n",
    "        else:\n",
    "            return '0'\n",
    "\n",
    "\n",
    "\n",
    "def find_rating(data, rating):\n",
    "\n",
    "    col = 0\n",
    "    while len(data) > 1:\n",
    "        bits = extract_bits(data, col)\n",
    "        common = find_common(bits, rating)\n",
    "        \n",
    "        data = [item for item in data if item[col] == common]\n",
    "        col += 1\n",
    "    \n",
    "    print(col)\n",
    "    return data\n",
    "\n",
    "print(find_rating(data, 'o2'))\n",
    "print(find_rating(data, 'co2'))"
   ]
  },
  {
   "cell_type": "code",
   "execution_count": 23,
   "metadata": {},
   "outputs": [
    {
     "name": "stdout",
     "output_type": "stream",
     "text": [
      "12\n",
      "8\n",
      "1071 3706\n"
     ]
    }
   ],
   "source": [
    "o2_rating = int(find_rating(data, 'o2')[0], 2)\n",
    "co2_rating = int(find_rating(data, 'co2')[0], 2)\n",
    "\n",
    "print(o2_rating, co2_rating)"
   ]
  },
  {
   "cell_type": "code",
   "execution_count": 24,
   "metadata": {},
   "outputs": [
    {
     "name": "stdout",
     "output_type": "stream",
     "text": [
      "3969126\n"
     ]
    }
   ],
   "source": [
    "# Part 2 answer\n",
    "print(o2_rating * co2_rating)"
   ]
  },
  {
   "cell_type": "code",
   "execution_count": null,
   "metadata": {},
   "outputs": [],
   "source": []
  }
 ],
 "metadata": {
  "interpreter": {
   "hash": "eba099742b16c1a801018f9ec5e68f8b267860b368a61108a6c02531e2422e4a"
  },
  "kernelspec": {
   "display_name": "Python 3.9.7 64-bit",
   "language": "python",
   "name": "python3"
  },
  "language_info": {
   "codemirror_mode": {
    "name": "ipython",
    "version": 3
   },
   "file_extension": ".py",
   "mimetype": "text/x-python",
   "name": "python",
   "nbconvert_exporter": "python",
   "pygments_lexer": "ipython3",
   "version": "3.9.7"
  },
  "orig_nbformat": 4
 },
 "nbformat": 4,
 "nbformat_minor": 2
}
