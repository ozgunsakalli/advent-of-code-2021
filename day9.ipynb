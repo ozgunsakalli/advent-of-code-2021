{
 "cells": [
  {
   "cell_type": "markdown",
   "metadata": {},
   "source": [
    "Advent of Code 2021 - Day 9\n",
    "\n",
    "Part 1:\n",
    "Find all of the low points on your heightmap. What is the sum of the risk levels of all low points on your heightmap?"
   ]
  },
  {
   "cell_type": "code",
   "execution_count": 2,
   "metadata": {},
   "outputs": [],
   "source": [
    "import numpy as np"
   ]
  },
  {
   "cell_type": "code",
   "execution_count": 4,
   "metadata": {},
   "outputs": [
    {
     "name": "stdout",
     "output_type": "stream",
     "text": [
      "[[7 8 5 ... 3 4 5]\n",
      " [6 7 4 ... 2 3 3]\n",
      " [5 4 3 ... 1 0 2]\n",
      " ...\n",
      " [4 5 7 ... 5 6 7]\n",
      " [5 6 8 ... 3 9 8]\n",
      " [6 7 8 ... 5 6 9]]\n"
     ]
    }
   ],
   "source": [
    "with open('input_day9.txt', 'rt') as f:\n",
    "    data = f.readlines()\n",
    "\n",
    "data = [[int(char) for char in item.rstrip()] for item in data]\n",
    "data = np.array(data)\n",
    "print(data)"
   ]
  },
  {
   "cell_type": "code",
   "execution_count": 5,
   "metadata": {},
   "outputs": [
    {
     "data": {
      "text/plain": [
       "(100, 100)"
      ]
     },
     "execution_count": 5,
     "metadata": {},
     "output_type": "execute_result"
    }
   ],
   "source": [
    "np.shape(data)"
   ]
  },
  {
   "cell_type": "code",
   "execution_count": 23,
   "metadata": {},
   "outputs": [],
   "source": [
    "def check_low_point(x, y, data):\n",
    "\n",
    "    x_max, y_max = np.shape(data)\n",
    "    \n",
    "    point = data[x, y]\n",
    "    neighbors = []\n",
    "\n",
    "    if not x == 0:\n",
    "        neighbors.append(data[x-1, y])\n",
    "    if not x == x_max-1:\n",
    "        neighbors.append(data[x+1, y])\n",
    "    if not y == 0:\n",
    "        neighbors.append(data[x, y-1])\n",
    "    if not y == y_max-1:\n",
    "        neighbors.append(data[x, y+1])\n",
    "    \n",
    "    if all([n > point for n in neighbors]):\n",
    "        return point + 1\n",
    "    else:\n",
    "        return 0\n"
   ]
  },
  {
   "cell_type": "code",
   "execution_count": 24,
   "metadata": {},
   "outputs": [],
   "source": [
    "x_max, y_max = np.shape(data)\n",
    "\n",
    "cumsum=0\n",
    "for x in range(x_max):\n",
    "    for y in range(y_max):\n",
    "        cumsum += check_low_point(x, y, data)\n"
   ]
  },
  {
   "cell_type": "code",
   "execution_count": 25,
   "metadata": {},
   "outputs": [
    {
     "name": "stdout",
     "output_type": "stream",
     "text": [
      "535\n"
     ]
    }
   ],
   "source": [
    "# Part 1 answer\n",
    "print(cumsum)"
   ]
  },
  {
   "cell_type": "markdown",
   "metadata": {},
   "source": [
    "Part 2: What do you get if you multiply together the sizes of the three largest basins?"
   ]
  },
  {
   "cell_type": "code",
   "execution_count": 42,
   "metadata": {},
   "outputs": [],
   "source": [
    "x_max, y_max = np.shape(data)\n",
    "\n",
    "\n",
    "def find_low_point(x, y, data):\n",
    "    \n",
    "    point_val = data[x, y]\n",
    "    neighbors = []\n",
    "\n",
    "    if not x == 0:\n",
    "        neighbors.append(data[x-1, y])\n",
    "    if not x == x_max-1:\n",
    "        neighbors.append(data[x+1, y])\n",
    "    if not y == 0:\n",
    "        neighbors.append(data[x, y-1])\n",
    "    if not y == y_max-1:\n",
    "        neighbors.append(data[x, y+1])\n",
    "    \n",
    "    if all([n > point_val for n in neighbors]):\n",
    "        return True\n",
    "    else:\n",
    "        return False\n",
    "\n",
    "\n",
    "def find_basin(x, y, data, neighbors):\n",
    "    \n",
    "    point_val = data[x, y]\n",
    "\n",
    "    new_neighbors = []\n",
    "    \n",
    "    if not x == 0:\n",
    "        add_if_ok(x-1, y, new_neighbors, point_val)\n",
    "\n",
    "    if not x == x_max-1:\n",
    "        add_if_ok(x+1, y, new_neighbors, point_val)\n",
    "\n",
    "    if not y == 0:\n",
    "        add_if_ok(x, y-1, new_neighbors, point_val)\n",
    "\n",
    "    if not y == y_max-1:\n",
    "        add_if_ok(x, y+1, new_neighbors, point_val)\n",
    "    \n",
    "    if new_neighbors:\n",
    "        for point in new_neighbors:\n",
    "            neighbors.append(point)\n",
    "            find_basin(point[0], point[1], data, neighbors)\n",
    "\n",
    "\n",
    "def add_if_ok(x_neighbor, y_neighbor, neighbors, point_val):\n",
    "\n",
    "    neighbor_val = data[x_neighbor, y_neighbor]\n",
    "\n",
    "    if neighbor_val > point_val and neighbor_val != 9:\n",
    "        neighbors.append((x_neighbor, y_neighbor))"
   ]
  },
  {
   "cell_type": "code",
   "execution_count": 43,
   "metadata": {},
   "outputs": [],
   "source": [
    "low_points = []\n",
    "\n",
    "for x in range(x_max):\n",
    "    for y in range(y_max):\n",
    "        if find_low_point(x, y, data):\n",
    "            low_points.append((x,y))"
   ]
  },
  {
   "cell_type": "code",
   "execution_count": 58,
   "metadata": {},
   "outputs": [],
   "source": [
    "basin_sizes = []\n",
    "for point in low_points:\n",
    "    neighbors = [point]\n",
    "    find_basin(point[0], point[1], data, neighbors)\n",
    "    basin_sizes.append(len(set(neighbors)))\n",
    "\n",
    "# set(neighbors)\n",
    "top = sorted(basin_sizes, reverse=True)[:3]"
   ]
  },
  {
   "cell_type": "code",
   "execution_count": 59,
   "metadata": {},
   "outputs": [
    {
     "name": "stdout",
     "output_type": "stream",
     "text": [
      "1122700\n"
     ]
    }
   ],
   "source": [
    "# Part 2 answer\n",
    "print(top[0] * top[1] * top[2])"
   ]
  },
  {
   "cell_type": "code",
   "execution_count": null,
   "metadata": {},
   "outputs": [],
   "source": []
  }
 ],
 "metadata": {
  "interpreter": {
   "hash": "eba099742b16c1a801018f9ec5e68f8b267860b368a61108a6c02531e2422e4a"
  },
  "kernelspec": {
   "display_name": "Python 3.9.7 64-bit",
   "language": "python",
   "name": "python3"
  },
  "language_info": {
   "codemirror_mode": {
    "name": "ipython",
    "version": 3
   },
   "file_extension": ".py",
   "mimetype": "text/x-python",
   "name": "python",
   "nbconvert_exporter": "python",
   "pygments_lexer": "ipython3",
   "version": "3.9.7"
  },
  "orig_nbformat": 4
 },
 "nbformat": 4,
 "nbformat_minor": 2
}
