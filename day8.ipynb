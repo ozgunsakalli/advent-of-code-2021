{
 "cells": [
  {
   "cell_type": "markdown",
   "metadata": {},
   "source": [
    "Advent of Code 2021 - Day 8\n",
    "\n",
    "Part 1:\n",
    "In the output values, how many times do digits 1, 4, 7, or 8 appear?"
   ]
  },
  {
   "cell_type": "markdown",
   "metadata": {},
   "source": [
    "  0:      1:      2:      3:      4:\n",
    " aaaa    ....    aaaa    aaaa    ....\n",
    "b    c  .    c  .    c  .    c  b    c\n",
    "b    c  .    c  .    c  .    c  b    c\n",
    " ....    ....    dddd    dddd    dddd\n",
    "e    f  .    f  e    .  .    f  .    f\n",
    "e    f  .    f  e    .  .    f  .    f\n",
    " gggg    ....    gggg    gggg    ....\n",
    "\n",
    "           x              x       x  \n",
    "\n",
    "  5:      6:      7:      8:      9:\n",
    " aaaa    aaaa    aaaa    aaaa    aaaa\n",
    "b    .  b    .  .    c  b    c  b    c\n",
    "b    .  b    .  .    c  b    c  b    c\n",
    " dddd    dddd    ....    dddd    dddd\n",
    ".    f  e    f  .    f  e    f  .    f\n",
    ".    f  e    f  .    f  e    f  .    f\n",
    " gggg    gggg    ....    gggg    gggg\n",
    "\n",
    "   y      x       x        x    "
   ]
  },
  {
   "cell_type": "code",
   "execution_count": 56,
   "metadata": {},
   "outputs": [
    {
     "name": "stdout",
     "output_type": "stream",
     "text": [
      "['cebdg egcfda gdacbe badefg', 'fgdecab gefac fgaec bdaf', 'acdefb cdfeab dfcaeb abde', 'de bgfae decafbg gefabcd', 'daecbg gabcde cfgdbe bgcfa', 'aecgfd efadcb bcdeaf cdbaf', 'gebdf cd fcage dabcfeg', 'dabfecg abegfc dcbgaf cfgab', 'cbdgf bfacde cdgbafe edfg', 'dafge adceg cbeda dcbae']\n"
     ]
    }
   ],
   "source": [
    "with open('input_day8.txt', 'rt') as f:\n",
    "    data = f.readlines()\n",
    "\n",
    "data = [item.rstrip() for item in data]\n",
    "all_patterns = [item.split('|')[0].strip() for item in data]\n",
    "outputs = [item.split('|')[1].strip() for item in data]\n",
    "print(outputs[:10])"
   ]
  },
  {
   "cell_type": "code",
   "execution_count": 53,
   "metadata": {},
   "outputs": [],
   "source": [
    "lengths_decoded = {\n",
    "    2: 1,\n",
    "    4: 4,\n",
    "    3: 7,\n",
    "    7: 8,\n",
    "    }\n",
    "\n",
    "correct_patterns = {\n",
    "    0: frozenset(('abcefg')),\n",
    "    1: frozenset(('cf')),\n",
    "    2: frozenset(('acdeg')),\n",
    "    3: frozenset(('acdfg')),\n",
    "    4: frozenset(('bcdf')),\n",
    "    5: frozenset(('abdfg')),\n",
    "    6: frozenset(('abdefg')),\n",
    "    7: frozenset(('acf')),\n",
    "    8: frozenset(('abcdefg')),\n",
    "    9: frozenset(('abcdfg')),\n",
    "}"
   ]
  },
  {
   "cell_type": "code",
   "execution_count": 13,
   "metadata": {},
   "outputs": [
    {
     "name": "stdout",
     "output_type": "stream",
     "text": [
      "True\n"
     ]
    }
   ],
   "source": [
    "a = frozenset((1,2,4))\n",
    "\n",
    "print(a == frozenset((2,4,1)))"
   ]
  },
  {
   "cell_type": "code",
   "execution_count": 7,
   "metadata": {},
   "outputs": [],
   "source": [
    "vals = tuple(lengths_decoded.keys())\n",
    "counter = 0\n",
    "\n",
    "for line in output:\n",
    "    contents = line.split(' ')\n",
    "    for digit in contents:\n",
    "        if len(digit) in vals:\n",
    "            counter += 1"
   ]
  },
  {
   "cell_type": "code",
   "execution_count": 8,
   "metadata": {},
   "outputs": [
    {
     "name": "stdout",
     "output_type": "stream",
     "text": [
      "274\n"
     ]
    }
   ],
   "source": [
    "# Part 1 answer\n",
    "print(counter)"
   ]
  },
  {
   "cell_type": "markdown",
   "metadata": {},
   "source": [
    "Part 2: For each entry, determine all of the wire/segment connections and decode the four-digit output values. What do you get if you add up all of the output values?"
   ]
  },
  {
   "cell_type": "code",
   "execution_count": 61,
   "metadata": {},
   "outputs": [],
   "source": [
    "def decrypt_line(patterns, outputs):\n",
    "\n",
    "    decoded = {}\n",
    "    segments = {}   # correct: mixed\n",
    "    patterns = [frozenset(pattern) for pattern in patterns.split(' ')]\n",
    "\n",
    "    for pattern in patterns:\n",
    "        if len(pattern) in lengths_decoded.keys():\n",
    "            decoded[lengths_decoded[len(pattern)]] = pattern\n",
    "\n",
    "    for pattern in patterns:\n",
    "        if len(pattern) == 5 and (len(pattern - decoded[1]) == 3):\n",
    "            decoded[3] = pattern\n",
    "\n",
    "    for pattern in patterns:\n",
    "            if len(pattern) == 6 and (len(pattern - decoded[1]) == 5):\n",
    "                decoded[6] = pattern\n",
    "\n",
    "    for pattern in patterns:\n",
    "        if len(pattern) == 5 and (len(decoded[6] - pattern) == 1):\n",
    "                decoded[5] = pattern\n",
    "\n",
    "    segments['a'] = tuple(decoded[7] - decoded[1])[0]\n",
    "    segments['b'] = tuple(decoded[5] - decoded[3])[0]\n",
    "    segments['c'] = tuple(decoded[3] - decoded[5])[0]\n",
    "    segments['e'] = tuple(decoded[6] - decoded[5])[0]\n",
    "    segments['f'] = tuple(decoded[1] - frozenset(segments['c']))[0]\n",
    "    segments['d'] = tuple(decoded[4] - frozenset((segments['b'], segments['c'], segments['f'])))[0]\n",
    "    segments['g'] = tuple(decoded[3] - decoded[7] - frozenset(segments['d']))[0]\n",
    "\n",
    "    output_str = ''.join(decrypt_numbers(segments, outputs))\n",
    "    \n",
    "    return int(output_str)\n",
    "\n",
    "\n",
    "def decrypt_numbers(segments:dict, display:list):\n",
    "    # segments dict -> correct segment: displayed segment\n",
    "    # display -> list of output patterns\n",
    "\n",
    "    decrypt_segment = {value: key for key, value in segments.items()}\n",
    "    read_pattern = {value: key for key, value in correct_patterns.items()}\n",
    "\n",
    "    numbers = []\n",
    "    for displayed_pattern in display.split(' '):\n",
    "        \n",
    "        decrypted_pattern = []\n",
    "        for displayed_segment in displayed_pattern:\n",
    "            decrypted_pattern.append(decrypt_segment[displayed_segment])\n",
    "        \n",
    "        numbers.append(str(read_pattern[frozenset(decrypted_pattern)]))\n",
    "    \n",
    "    return numbers\n",
    "    \n"
   ]
  },
  {
   "cell_type": "code",
   "execution_count": 62,
   "metadata": {},
   "outputs": [],
   "source": [
    "cumsum = 0\n",
    "\n",
    "for n, pattern in enumerate(all_patterns):\n",
    "    cumsum += decrypt_line(pattern, outputs[n])"
   ]
  },
  {
   "cell_type": "code",
   "execution_count": 63,
   "metadata": {},
   "outputs": [
    {
     "name": "stdout",
     "output_type": "stream",
     "text": [
      "1012089\n"
     ]
    }
   ],
   "source": [
    "# Part 2 answer\n",
    "print(cumsum)"
   ]
  }
 ],
 "metadata": {
  "interpreter": {
   "hash": "eba099742b16c1a801018f9ec5e68f8b267860b368a61108a6c02531e2422e4a"
  },
  "kernelspec": {
   "display_name": "Python 3.9.7 64-bit",
   "language": "python",
   "name": "python3"
  },
  "language_info": {
   "codemirror_mode": {
    "name": "ipython",
    "version": 3
   },
   "file_extension": ".py",
   "mimetype": "text/x-python",
   "name": "python",
   "nbconvert_exporter": "python",
   "pygments_lexer": "ipython3",
   "version": "3.9.7"
  },
  "orig_nbformat": 4
 },
 "nbformat": 4,
 "nbformat_minor": 2
}
