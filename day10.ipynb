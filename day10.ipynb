{
 "cells": [
  {
   "cell_type": "markdown",
   "metadata": {},
   "source": [
    "Advent of Code 2021 - Day 10\n",
    "\n",
    "Part 1: Find the first illegal character in each corrupted line of the navigation subsystem. What is the total syntax error score for those errors?\n"
   ]
  },
  {
   "cell_type": "code",
   "execution_count": 123,
   "metadata": {},
   "outputs": [
    {
     "data": {
      "text/plain": [
       "106"
      ]
     },
     "execution_count": 123,
     "metadata": {},
     "output_type": "execute_result"
    }
   ],
   "source": [
    "with open('input_day10.txt', 'rt') as f:\n",
    "    data = f.readlines()\n",
    "\n",
    "data = [item.rstrip() for item in data]\n",
    "len(data)"
   ]
  },
  {
   "cell_type": "code",
   "execution_count": 124,
   "metadata": {},
   "outputs": [],
   "source": [
    "chunk_open = ('([{<')\n",
    "matching = {\n",
    "    ')': '(',\n",
    "    ']': '[',\n",
    "    '}': '{',\n",
    "    '>': '<',\n",
    "    }\n",
    "scores = {\n",
    "    ')': 3,\n",
    "    ']': 57,\n",
    "    '}': 1197,\n",
    "    '>': 25137,\n",
    "}"
   ]
  },
  {
   "cell_type": "code",
   "execution_count": 125,
   "metadata": {},
   "outputs": [],
   "source": [
    "def check_line(line):\n",
    "\n",
    "    for n, char in enumerate(line):\n",
    "        if char in chunk_open:\n",
    "            continue\n",
    "\n",
    "        line_clean = line[:n].rstrip('_')\n",
    "        inspected_char = line_clean[-1]\n",
    "\n",
    "        if inspected_char == matching[char]:\n",
    "            line = clean_char(line, len(line_clean)-1, n)\n",
    "            # print('MATCH', line)\n",
    "        else:   # line is corrupt\n",
    "            # print('CORRU', line)\n",
    "            return scores[char]\n",
    "\n",
    "    else:   # line is incomplete\n",
    "        # print('INCOM', line)\n",
    "        return 0\n",
    "\n",
    "\n",
    "\n",
    "def clean_char(line, i_open, i_close):\n",
    "    list_line = list(line)\n",
    "    list_line[i_open] = '_'\n",
    "    list_line[i_close] = '_'\n",
    "    clean_line = ''.join(list_line)\n",
    "    return clean_line"
   ]
  },
  {
   "cell_type": "code",
   "execution_count": 127,
   "metadata": {},
   "outputs": [],
   "source": [
    "total_score = 0\n",
    "for line in data:\n",
    "    score = check_line(line)\n",
    "    total_score += score\n"
   ]
  },
  {
   "cell_type": "code",
   "execution_count": 128,
   "metadata": {},
   "outputs": [
    {
     "name": "stdout",
     "output_type": "stream",
     "text": [
      "316851\n"
     ]
    }
   ],
   "source": [
    "# Part 1 answer\n",
    "print(total_score)"
   ]
  },
  {
   "cell_type": "markdown",
   "metadata": {},
   "source": [
    "Part 2: Find the completion string for each incomplete line, score the completion strings, and sort the scores. What is the middle score?"
   ]
  },
  {
   "cell_type": "code",
   "execution_count": 149,
   "metadata": {},
   "outputs": [
    {
     "data": {
      "text/plain": [
       "53"
      ]
     },
     "execution_count": 149,
     "metadata": {},
     "output_type": "execute_result"
    }
   ],
   "source": [
    "incomplete_lines = []\n",
    "\n",
    "for line in data:\n",
    "    score = check_line(line)\n",
    "    if score == 0:\n",
    "        incomplete_lines.append(line)\n",
    "\n",
    "len(incomplete_lines)"
   ]
  },
  {
   "cell_type": "code",
   "execution_count": 150,
   "metadata": {},
   "outputs": [],
   "source": [
    "completion_score = {\n",
    "    ')': 1,\n",
    "    ']': 2,\n",
    "    '}': 3,\n",
    "    '>': 4,\n",
    "}"
   ]
  },
  {
   "cell_type": "code",
   "execution_count": 152,
   "metadata": {},
   "outputs": [],
   "source": [
    "rev_matching = {value: key for key, value in matching.items()}\n",
    "\n",
    "def complete_line(line):\n",
    "\n",
    "    for n, char in enumerate(line):\n",
    "        if char in chunk_open:\n",
    "            continue\n",
    "\n",
    "        line_clean = line[:n].rstrip('_')\n",
    "        line = clean_char(line, len(line_clean)-1, n)\n",
    "    \n",
    "    # print(line)\n",
    "\n",
    "    line = line.replace('_', '')\n",
    "\n",
    "    score = 0\n",
    "    for char in line[::-1]:\n",
    "        score = score*5 + completion_score[rev_matching[char]]\n",
    "        # print(rev_matching[char])\n",
    "\n",
    "    return score\n",
    "\n",
    "\n",
    "def clean_char(line, i_open, i_close):\n",
    "    list_line = list(line)\n",
    "    list_line[i_open] = '_'\n",
    "    list_line[i_close] = '_'\n",
    "    clean_line = ''.join(list_line)\n",
    "    return clean_line"
   ]
  },
  {
   "cell_type": "code",
   "execution_count": 153,
   "metadata": {},
   "outputs": [
    {
     "data": {
      "text/plain": [
       "5536910419"
      ]
     },
     "execution_count": 153,
     "metadata": {},
     "output_type": "execute_result"
    }
   ],
   "source": [
    "complete_line(incomplete_lines[0])"
   ]
  },
  {
   "cell_type": "code",
   "execution_count": 154,
   "metadata": {},
   "outputs": [
    {
     "data": {
      "text/plain": [
       "53"
      ]
     },
     "execution_count": 154,
     "metadata": {},
     "output_type": "execute_result"
    }
   ],
   "source": [
    "com_scores = []\n",
    "for line in incomplete_lines:\n",
    "    com_scores.append(complete_line(line))\n",
    "\n",
    "len(com_scores)\n"
   ]
  },
  {
   "cell_type": "code",
   "execution_count": 156,
   "metadata": {},
   "outputs": [
    {
     "name": "stdout",
     "output_type": "stream",
     "text": [
      "2182912364\n"
     ]
    }
   ],
   "source": [
    "index_mid = int((len(com_scores)+1)/2-1)\n",
    "print(sorted(com_scores)[index_mid])"
   ]
  },
  {
   "cell_type": "code",
   "execution_count": 115,
   "metadata": {},
   "outputs": [
    {
     "name": "stdout",
     "output_type": "stream",
     "text": [
      "2409133557\n"
     ]
    }
   ],
   "source": [
    "# Part 2 answer (wrong)\n",
    "print(sorted(scores)[28])"
   ]
  },
  {
   "cell_type": "code",
   "execution_count": 101,
   "metadata": {},
   "outputs": [
    {
     "data": {
      "text/plain": [
       "29182151557"
      ]
     },
     "execution_count": 101,
     "metadata": {},
     "output_type": "execute_result"
    }
   ],
   "source": [
    "max(scores)"
   ]
  },
  {
   "cell_type": "code",
   "execution_count": 136,
   "metadata": {},
   "outputs": [],
   "source": [
    "## example\n",
    "\n",
    "data2 = [\n",
    "    '[({(<(())[]>[[{[]{<()<>>',\n",
    "    '[(()[<>])]({[<{<<[]>>(',\n",
    "    '{([(<{}[<>[]}>{[]{[(<()>',\n",
    "    '(((({<>}<{<{<>}{[]{[]{}',\n",
    "    '[[<[([]))<([[{}[[()]]]',\n",
    "    '[{[{({}]{}}([{[{{{}}([]',\n",
    "    '{<[[]]>}<{[{[{[]{()[[[]',\n",
    "    '[<(<(<(<{}))><([]([]()',\n",
    "    '<{([([[(<>()){}]>(<<{{',\n",
    "    '<{([{{}}[<[[[<>{}]]]>[]]',\n",
    "]\n"
   ]
  },
  {
   "cell_type": "code",
   "execution_count": 137,
   "metadata": {},
   "outputs": [
    {
     "data": {
      "text/plain": [
       "5"
      ]
     },
     "execution_count": 137,
     "metadata": {},
     "output_type": "execute_result"
    }
   ],
   "source": [
    "incomplete_lines = []\n",
    "\n",
    "for line in data2:\n",
    "    score = check_line(line)\n",
    "    if score == 0:\n",
    "        incomplete_lines.append(line)\n",
    "\n",
    "len(incomplete_lines)"
   ]
  },
  {
   "cell_type": "code",
   "execution_count": 142,
   "metadata": {},
   "outputs": [
    {
     "name": "stdout",
     "output_type": "stream",
     "text": [
      "}\n",
      "}\n",
      "]\n",
      "]\n",
      ")\n",
      "}\n",
      ")\n",
      "]\n",
      ")\n",
      "}\n",
      ">\n",
      "]\n",
      "}\n",
      ")\n",
      "}\n",
      "}\n",
      ">\n",
      "}\n",
      ">\n",
      ")\n",
      ")\n",
      ")\n",
      ")\n",
      "]\n",
      "]\n",
      "}\n",
      "}\n",
      "]\n",
      "}\n",
      "]\n",
      "}\n",
      ">\n",
      "]\n",
      ")\n",
      "}\n",
      ">\n"
     ]
    },
    {
     "data": {
      "text/plain": [
       "[288957, 5566, 1480781, 995444, 294]"
      ]
     },
     "execution_count": 142,
     "metadata": {},
     "output_type": "execute_result"
    }
   ],
   "source": [
    "com_scores = []\n",
    "for line in incomplete_lines:\n",
    "    com_scores.append(complete_line(line))\n",
    "\n",
    "com_scores\n"
   ]
  },
  {
   "cell_type": "code",
   "execution_count": 146,
   "metadata": {},
   "outputs": [
    {
     "name": "stdout",
     "output_type": "stream",
     "text": [
      "2\n",
      "288957\n"
     ]
    }
   ],
   "source": [
    "index_mid = int((len(com_scores)+1)/2-1)\n",
    "print(index_mid)\n",
    "print(sorted(com_scores)[index_mid])"
   ]
  },
  {
   "cell_type": "code",
   "execution_count": null,
   "metadata": {},
   "outputs": [],
   "source": []
  }
 ],
 "metadata": {
  "interpreter": {
   "hash": "eba099742b16c1a801018f9ec5e68f8b267860b368a61108a6c02531e2422e4a"
  },
  "kernelspec": {
   "display_name": "Python 3.9.7 64-bit",
   "language": "python",
   "name": "python3"
  },
  "language_info": {
   "codemirror_mode": {
    "name": "ipython",
    "version": 3
   },
   "file_extension": ".py",
   "mimetype": "text/x-python",
   "name": "python",
   "nbconvert_exporter": "python",
   "pygments_lexer": "ipython3",
   "version": "3.9.7"
  },
  "orig_nbformat": 4
 },
 "nbformat": 4,
 "nbformat_minor": 2
}
