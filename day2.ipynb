{
 "cells": [
  {
   "cell_type": "markdown",
   "metadata": {},
   "source": [
    "Advent of Code 2021 - Day 2\n",
    "\n",
    "Part 1: What do you get if you multiply your final horizontal position by your final depth?"
   ]
  },
  {
   "cell_type": "code",
   "execution_count": 11,
   "metadata": {},
   "outputs": [],
   "source": [
    "import collections"
   ]
  },
  {
   "cell_type": "code",
   "execution_count": 9,
   "metadata": {},
   "outputs": [
    {
     "name": "stdout",
     "output_type": "stream",
     "text": [
      "[('forward', 9), ('forward', 7), ('forward', 4), ('down', 7), ('forward', 5), ('down', 4), ('down', 2), ('forward', 1), ('down', 6), ('forward', 5)]\n"
     ]
    }
   ],
   "source": [
    "with open('input_day2.txt', 'rt') as f:\n",
    "    data = f.readlines()\n",
    "\n",
    "data = [item.rstrip() for item in data]\n",
    "data = [(item.split()[0], int(item.split()[1])) for item in data]\n",
    "\n",
    "print(data[:10])"
   ]
  },
  {
   "cell_type": "code",
   "execution_count": 12,
   "metadata": {},
   "outputs": [
    {
     "name": "stdout",
     "output_type": "stream",
     "text": [
      "defaultdict(<class 'int'>, {'forward': 2052, 'down': 2024, 'up': 992})\n"
     ]
    }
   ],
   "source": [
    "cumsum = collections.defaultdict(int)\n",
    "\n",
    "for direction, distance in data:\n",
    "    cumsum[direction] += distance\n",
    "\n",
    "print(cumsum)"
   ]
  },
  {
   "cell_type": "code",
   "execution_count": 14,
   "metadata": {},
   "outputs": [
    {
     "name": "stdout",
     "output_type": "stream",
     "text": [
      "2052 1032\n"
     ]
    }
   ],
   "source": [
    "horizontal = cumsum['forward']\n",
    "depth = cumsum['down'] - cumsum['up']\n",
    "\n",
    "print(horizontal, depth)"
   ]
  },
  {
   "cell_type": "code",
   "execution_count": 15,
   "metadata": {},
   "outputs": [
    {
     "name": "stdout",
     "output_type": "stream",
     "text": [
      "2117664\n"
     ]
    }
   ],
   "source": [
    "# Part 1 answer\n",
    "print(horizontal*depth)"
   ]
  },
  {
   "cell_type": "markdown",
   "metadata": {},
   "source": [
    "Part 2: Using this new interpretation of the commands, calculate the horizontal position and depth you would have after following the planned course. What do you get if you multiply your final horizontal position by your final depth?"
   ]
  },
  {
   "cell_type": "code",
   "execution_count": 16,
   "metadata": {},
   "outputs": [
    {
     "name": "stdout",
     "output_type": "stream",
     "text": [
      "2052 1010437\n"
     ]
    }
   ],
   "source": [
    "aim, horizontal, depth = 0, 0, 0    # initializing\n",
    "\n",
    "for direction, units in data:\n",
    "\n",
    "    if direction == 'up':\n",
    "        aim -= units\n",
    "    elif direction == 'down':\n",
    "        aim += units\n",
    "    elif direction == 'forward':\n",
    "        horizontal += units\n",
    "        depth += aim * units\n",
    "\n",
    "print(horizontal, depth)"
   ]
  },
  {
   "cell_type": "code",
   "execution_count": 17,
   "metadata": {},
   "outputs": [
    {
     "name": "stdout",
     "output_type": "stream",
     "text": [
      "2073416724\n"
     ]
    }
   ],
   "source": [
    "# Part 2 answer\n",
    "\n",
    "print(horizontal * depth)"
   ]
  },
  {
   "cell_type": "code",
   "execution_count": null,
   "metadata": {},
   "outputs": [],
   "source": []
  }
 ],
 "metadata": {
  "interpreter": {
   "hash": "eba099742b16c1a801018f9ec5e68f8b267860b368a61108a6c02531e2422e4a"
  },
  "kernelspec": {
   "display_name": "Python 3.9.7 64-bit",
   "language": "python",
   "name": "python3"
  },
  "language_info": {
   "codemirror_mode": {
    "name": "ipython",
    "version": 3
   },
   "file_extension": ".py",
   "mimetype": "text/x-python",
   "name": "python",
   "nbconvert_exporter": "python",
   "pygments_lexer": "ipython3",
   "version": "3.9.7"
  },
  "orig_nbformat": 4
 },
 "nbformat": 4,
 "nbformat_minor": 2
}
