{
 "cells": [
  {
   "cell_type": "markdown",
   "metadata": {},
   "source": [
    "Advent of Code 2021 - Day 11\n",
    "\n",
    "Part 1:\n",
    "Given the starting energy levels of the dumbo octopuses in your cavern, simulate 100 steps. How many total flashes are there after 100 steps?"
   ]
  },
  {
   "cell_type": "code",
   "execution_count": 40,
   "metadata": {},
   "outputs": [],
   "source": [
    "import numpy as np"
   ]
  },
  {
   "cell_type": "code",
   "execution_count": 63,
   "metadata": {},
   "outputs": [
    {
     "data": {
      "text/plain": [
       "array([[5, 4, 8, 3, 1, 4, 3, 2, 2, 3],\n",
       "       [2, 7, 4, 5, 8, 5, 4, 7, 1, 1],\n",
       "       [5, 2, 6, 4, 5, 5, 6, 1, 7, 3],\n",
       "       [6, 1, 4, 1, 3, 3, 6, 1, 4, 6],\n",
       "       [6, 3, 5, 7, 3, 8, 5, 4, 7, 8],\n",
       "       [4, 1, 6, 7, 5, 2, 4, 6, 4, 5],\n",
       "       [2, 1, 7, 6, 8, 4, 1, 7, 2, 1],\n",
       "       [6, 8, 8, 2, 8, 8, 1, 1, 3, 4],\n",
       "       [4, 8, 4, 6, 8, 4, 8, 5, 5, 4],\n",
       "       [5, 2, 8, 3, 7, 5, 1, 5, 2, 6]])"
      ]
     },
     "execution_count": 63,
     "metadata": {},
     "output_type": "execute_result"
    }
   ],
   "source": [
    "test_data = \"\"\"\n",
    "5483143223\n",
    "2745854711\n",
    "5264556173\n",
    "6141336146\n",
    "6357385478\n",
    "4167524645\n",
    "2176841721\n",
    "6882881134\n",
    "4846848554\n",
    "5283751526\"\"\"\n",
    "\n",
    "test_data = [item.strip() for item in test_data.split()]\n",
    "test_data = [[int(char) for char in line] for line in test_data]\n",
    "test_data = np.array(test_data)\n",
    "test_data"
   ]
  },
  {
   "cell_type": "code",
   "execution_count": 64,
   "metadata": {},
   "outputs": [
    {
     "data": {
      "text/plain": [
       "array([[4, 3, 4, 1, 3, 4, 7, 6, 4, 3],\n",
       "       [5, 4, 7, 7, 7, 2, 8, 4, 5, 1],\n",
       "       [2, 3, 2, 2, 7, 3, 3, 8, 7, 8],\n",
       "       [5, 4, 5, 3, 7, 6, 2, 5, 5, 6],\n",
       "       [2, 7, 1, 8, 1, 2, 3, 4, 2, 1],\n",
       "       [4, 2, 3, 7, 8, 8, 6, 1, 1, 5],\n",
       "       [5, 6, 3, 1, 6, 1, 7, 1, 1, 4],\n",
       "       [2, 2, 1, 7, 6, 6, 7, 2, 2, 7],\n",
       "       [4, 2, 3, 6, 5, 8, 1, 2, 5, 5],\n",
       "       [4, 4, 8, 2, 6, 2, 7, 6, 4, 1]])"
      ]
     },
     "execution_count": 64,
     "metadata": {},
     "output_type": "execute_result"
    }
   ],
   "source": [
    "with open('input_day11.txt', 'rt') as f:\n",
    "    data = f.readlines()\n",
    "\n",
    "data = [item.rstrip() for item in data]\n",
    "data = [[int(char) for char in line] for line in data]\n",
    "data = np.array(data)\n",
    "data"
   ]
  },
  {
   "cell_type": "code",
   "execution_count": 89,
   "metadata": {},
   "outputs": [],
   "source": [
    "x_max, y_max = np.shape(data)\n",
    "x_max, y_max = x_max-1, y_max-1\n",
    "\n",
    "def increment_step(octopi):\n",
    "    \n",
    "    octopi += 1\n",
    "\n",
    "    flashers = np.argwhere(octopi == 10)\n",
    "    \n",
    "    if len(flashers) > 0:\n",
    "        for flasher in flashers:\n",
    "            increase_adjacent(tuple(flasher), octopi)\n",
    "\n",
    "    octopi = np.where(octopi >=10, 0, octopi)\n",
    "    number_of_flashes = np.count_nonzero(octopi == 0)\n",
    "\n",
    "    if number_of_flashes == 100:\n",
    "        simultaneous_flash = True\n",
    "    else:\n",
    "        simultaneous_flash = False\n",
    "\n",
    "    return octopi, number_of_flashes, simultaneous_flash\n",
    "\n",
    "\n",
    "def find_adjacent(octopus:tuple, octopi:np.array):\n",
    "    x, y = octopus\n",
    "\n",
    "    x_range = [x, x+1]\n",
    "    y_range = [y, y+1]\n",
    "\n",
    "    if x > 0:\n",
    "        x_range.append(x-1)\n",
    "    if y > 0:\n",
    "        y_range.append(y-1)\n",
    "\n",
    "    possibly_adjacent = []\n",
    "    for x_a in x_range:\n",
    "        for y_a in y_range:\n",
    "            possibly_adjacent.append((x_a, y_a))\n",
    "\n",
    "    adjacent_octopi = []\n",
    "    for posibility in possibly_adjacent:\n",
    "        try:\n",
    "            _ = octopi[posibility]\n",
    "            adjacent_octopi.append(posibility)\n",
    "        except IndexError:\n",
    "            pass\n",
    "    \n",
    "    adjacent_octopi.remove(octopus)\n",
    "\n",
    "    return adjacent_octopi\n",
    "\n",
    "\n",
    "def increase_adjacent(octopus: tuple, octopi: np.array):\n",
    "\n",
    "    adjacent_octopi = find_adjacent(octopus, octopi)\n",
    "\n",
    "    flashers = []\n",
    "    for o in adjacent_octopi:\n",
    "        octopi[o] += 1\n",
    "        if octopi[o] == 10:\n",
    "            flashers.append(o)\n",
    "    \n",
    "    if flashers:\n",
    "        for flasher in flashers:\n",
    "            increase_adjacent(flasher, octopi)\n",
    "    \n"
   ]
  },
  {
   "cell_type": "code",
   "execution_count": 84,
   "metadata": {},
   "outputs": [
    {
     "name": "stdout",
     "output_type": "stream",
     "text": [
      "[[5 4 8 3 1 4 3 2 2 3]\n",
      " [2 7 4 5 8 5 4 7 1 1]\n",
      " [5 2 6 4 5 5 6 1 7 3]\n",
      " [6 1 4 1 3 3 6 1 4 6]\n",
      " [6 3 5 7 3 8 5 4 7 8]\n",
      " [4 1 6 7 5 2 4 6 4 5]\n",
      " [2 1 7 6 8 4 1 7 2 1]\n",
      " [6 8 8 2 8 8 1 1 3 4]\n",
      " [4 8 4 6 8 4 8 5 5 4]\n",
      " [5 2 8 3 7 5 1 5 2 6]]\n"
     ]
    },
    {
     "data": {
      "text/plain": [
       "1656"
      ]
     },
     "execution_count": 84,
     "metadata": {},
     "output_type": "execute_result"
    }
   ],
   "source": [
    "d = test_data.copy()\n",
    "\n",
    "print(d)\n",
    "\n",
    "total_num = 0\n",
    "for n in range(100):\n",
    "    d, num = increment_step(d)\n",
    "    total_num += num\n",
    "\n",
    "total_num\n"
   ]
  },
  {
   "cell_type": "code",
   "execution_count": 87,
   "metadata": {},
   "outputs": [
    {
     "name": "stdout",
     "output_type": "stream",
     "text": [
      "[[4 3 4 1 3 4 7 6 4 3]\n",
      " [5 4 7 7 7 2 8 4 5 1]\n",
      " [2 3 2 2 7 3 3 8 7 8]\n",
      " [5 4 5 3 7 6 2 5 5 6]\n",
      " [2 7 1 8 1 2 3 4 2 1]\n",
      " [4 2 3 7 8 8 6 1 1 5]\n",
      " [5 6 3 1 6 1 7 1 1 4]\n",
      " [2 2 1 7 6 6 7 2 2 7]\n",
      " [4 2 3 6 5 8 1 2 5 5]\n",
      " [4 4 8 2 6 2 7 6 4 1]]\n"
     ]
    }
   ],
   "source": [
    "d = data.copy()\n",
    "\n",
    "print(d)\n",
    "\n",
    "total_num = 0\n",
    "for n in range(100):\n",
    "    d, num, _ = increment_step(d)\n",
    "    total_num += num\n",
    "\n"
   ]
  },
  {
   "cell_type": "code",
   "execution_count": 86,
   "metadata": {},
   "outputs": [
    {
     "name": "stdout",
     "output_type": "stream",
     "text": [
      "1697\n"
     ]
    }
   ],
   "source": [
    "# Part 1 answer\n",
    "print(total_num)"
   ]
  },
  {
   "cell_type": "markdown",
   "metadata": {},
   "source": [
    "Part 2: "
   ]
  },
  {
   "cell_type": "code",
   "execution_count": 88,
   "metadata": {},
   "outputs": [
    {
     "data": {
      "text/plain": [
       "100"
      ]
     },
     "execution_count": 88,
     "metadata": {},
     "output_type": "execute_result"
    }
   ],
   "source": [
    "# total number of octopi\n",
    "np.shape(data)[0] * np.shape(data)[1]"
   ]
  },
  {
   "cell_type": "code",
   "execution_count": 94,
   "metadata": {},
   "outputs": [
    {
     "name": "stdout",
     "output_type": "stream",
     "text": [
      "[[4 3 4 1 3 4 7 6 4 3]\n",
      " [5 4 7 7 7 2 8 4 5 1]\n",
      " [2 3 2 2 7 3 3 8 7 8]\n",
      " [5 4 5 3 7 6 2 5 5 6]\n",
      " [2 7 1 8 1 2 3 4 2 1]\n",
      " [4 2 3 7 8 8 6 1 1 5]\n",
      " [5 6 3 1 6 1 7 1 1 4]\n",
      " [2 2 1 7 6 6 7 2 2 7]\n",
      " [4 2 3 6 5 8 1 2 5 5]\n",
      " [4 4 8 2 6 2 7 6 4 1]]\n",
      "Simultaneous flash at step:  344\n",
      "Simultaneous flash at step:  354\n",
      "Simultaneous flash at step:  364\n",
      "Simultaneous flash at step:  374\n",
      "Simultaneous flash at step:  384\n",
      "Simultaneous flash at step:  394\n",
      "Simultaneous flash at step:  404\n",
      "Simultaneous flash at step:  414\n",
      "Simultaneous flash at step:  424\n",
      "Simultaneous flash at step:  434\n",
      "Simultaneous flash at step:  444\n",
      "Simultaneous flash at step:  454\n",
      "Simultaneous flash at step:  464\n",
      "Simultaneous flash at step:  474\n",
      "Simultaneous flash at step:  484\n",
      "Simultaneous flash at step:  494\n"
     ]
    }
   ],
   "source": [
    "d = data.copy()\n",
    "\n",
    "print(d)\n",
    "\n",
    "total_num = 0\n",
    "\n",
    "for n in range(500):\n",
    "    d, num, s = increment_step(d)\n",
    "    if s:\n",
    "        print('Simultaneous flash at step: ', n+1)\n",
    "    total_num += num"
   ]
  },
  {
   "cell_type": "code",
   "execution_count": null,
   "metadata": {},
   "outputs": [],
   "source": [
    "# Part 2 answer"
   ]
  }
 ],
 "metadata": {
  "interpreter": {
   "hash": "eba099742b16c1a801018f9ec5e68f8b267860b368a61108a6c02531e2422e4a"
  },
  "kernelspec": {
   "display_name": "Python 3.9.7 64-bit",
   "language": "python",
   "name": "python3"
  },
  "language_info": {
   "codemirror_mode": {
    "name": "ipython",
    "version": 3
   },
   "file_extension": ".py",
   "mimetype": "text/x-python",
   "name": "python",
   "nbconvert_exporter": "python",
   "pygments_lexer": "ipython3",
   "version": "3.9.7"
  },
  "orig_nbformat": 4
 },
 "nbformat": 4,
 "nbformat_minor": 2
}
