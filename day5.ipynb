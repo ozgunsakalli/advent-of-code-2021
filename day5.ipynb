{
 "cells": [
  {
   "cell_type": "markdown",
   "metadata": {},
   "source": [
    "Advent of Code 2021 - Day 5\n",
    "\n",
    "Part 1:\n",
    "Consider only horizontal and vertical lines. At how many points do at least two lines overlap?"
   ]
  },
  {
   "cell_type": "code",
   "execution_count": 24,
   "metadata": {},
   "outputs": [],
   "source": [
    "import numpy as np"
   ]
  },
  {
   "cell_type": "code",
   "execution_count": 8,
   "metadata": {},
   "outputs": [
    {
     "name": "stdout",
     "output_type": "stream",
     "text": [
      "['578,391 -> 578,322', '274,585 -> 651,962', '482,348 -> 294,348', '682,514 -> 367,829', '180,243 -> 800,863', '850,828 -> 850,98', '698,439 -> 460,677', '518,379 -> 518,176', '486,437 -> 486,640', '730,420 -> 374,420']\n"
     ]
    }
   ],
   "source": [
    "with open('input_day5.txt', 'rt') as f:\n",
    "    data = f.readlines()\n",
    "\n",
    "data = [item.rstrip() for item in data]\n",
    "\n",
    "print(data[:10])"
   ]
  },
  {
   "cell_type": "code",
   "execution_count": 20,
   "metadata": {},
   "outputs": [
    {
     "name": "stdout",
     "output_type": "stream",
     "text": [
      "[((578, 391), (578, 322)), ((274, 585), (651, 962)), ((482, 348), (294, 348)), ((682, 514), (367, 829)), ((180, 243), (800, 863)), ((850, 828), (850, 98)), ((698, 439), (460, 677)), ((518, 379), (518, 176)), ((486, 437), (486, 640)), ((730, 420), (374, 420))]\n",
      "[578, 391, 578, 322, 274, 585, 651, 962, 482, 348]\n"
     ]
    }
   ],
   "source": [
    "def get_points(line):\n",
    "\n",
    "    points_str = line.split(' -> ')\n",
    "\n",
    "    p1 = tuple((\n",
    "        int(points_str[0].split(',')[0]),\n",
    "        int(points_str[0].split(',')[1]),\n",
    "    ))\n",
    "    p2 = tuple((\n",
    "        int(points_str[1].split(',')[0]),\n",
    "        int(points_str[1].split(',')[1]),\n",
    "    ))\n",
    "\n",
    "    nums = [p1[0], p1[1], p2[0], p2[1]]\n",
    "\n",
    "    return tuple((p1, p2)), nums\n",
    "\n",
    "points = []\n",
    "values = []\n",
    "for line in data:\n",
    "    line_points, nums = get_points(line)\n",
    "    values.extend(nums)\n",
    "    points.append(line_points)\n",
    "\n",
    "print(points[:10])\n",
    "print(values[:10])"
   ]
  },
  {
   "cell_type": "code",
   "execution_count": 22,
   "metadata": {},
   "outputs": [
    {
     "name": "stdout",
     "output_type": "stream",
     "text": [
      "17 956\n"
     ]
    }
   ],
   "source": [
    "print(min(nums), max(nums))"
   ]
  },
  {
   "cell_type": "code",
   "execution_count": 27,
   "metadata": {},
   "outputs": [],
   "source": [
    "def draw_line(field, p1, p2):\n",
    "\n",
    "    x1, y1 = p1\n",
    "    x2, y2 = p2\n",
    "\n",
    "    if not (x1 == x2 or y1 == y2):\n",
    "        return field\n",
    "    \n",
    "    if x1 > x2:\n",
    "        x1, x2 = x2, x1\n",
    "    \n",
    "    if y1 > y2:\n",
    "        y1, y2 = y2, y1\n",
    "\n",
    "    field[x1:x2+1,y1:y2+1] += 1\n",
    "\n",
    "    return field"
   ]
  },
  {
   "cell_type": "code",
   "execution_count": 34,
   "metadata": {},
   "outputs": [],
   "source": [
    "field = np.zeros((1000,1000))\n",
    "\n",
    "for point in points:\n",
    "    field = draw_line(field, point[0], point[1])\n",
    "\n",
    "overlap = np.where(field >= 2, 1, 0)"
   ]
  },
  {
   "cell_type": "code",
   "execution_count": 36,
   "metadata": {},
   "outputs": [
    {
     "name": "stdout",
     "output_type": "stream",
     "text": [
      "5084\n"
     ]
    }
   ],
   "source": [
    "# Part 1 answer\n",
    "print(np.sum(overlap))"
   ]
  },
  {
   "cell_type": "markdown",
   "metadata": {},
   "source": [
    "Part 2: Consider all of the lines. At how many points do at least two lines overlap?"
   ]
  },
  {
   "cell_type": "code",
   "execution_count": 57,
   "metadata": {},
   "outputs": [],
   "source": [
    "def draw_line2(field, p1, p2):\n",
    "\n",
    "    x1, y1 = p1\n",
    "    x2, y2 = p2\n",
    "        \n",
    "    if x1 == x2 or y1 == y2:\n",
    "\n",
    "        if x1 > x2:\n",
    "            x1, x2 = x2, x1\n",
    "        \n",
    "        if y1 > y2:\n",
    "            y1, y2 = y2, y1\n",
    "\n",
    "        field[x1:x2+1,y1:y2+1] += 1\n",
    "\n",
    "    elif abs(x2 - x1) == abs(y2 - y1):\n",
    "        x, y = x1, y1\n",
    "\n",
    "        while (x1 <= x <= x2) or (x2 <= x <= x1):\n",
    "            field[x,y] += 1\n",
    "            \n",
    "            if x2 > x1:\n",
    "                x += 1\n",
    "            else:\n",
    "                x-=1\n",
    "\n",
    "            if y2 > y1:\n",
    "                y += 1\n",
    "            else:\n",
    "                y -= 1\n",
    "\n",
    "    else:\n",
    "        return field\n",
    "\n",
    "    return field"
   ]
  },
  {
   "cell_type": "code",
   "execution_count": 58,
   "metadata": {},
   "outputs": [],
   "source": [
    "field = np.zeros((1000,1000))\n",
    "\n",
    "for point in points:\n",
    "    field = draw_line2(field, point[0], point[1])\n",
    "\n",
    "overlap = np.where(field >= 2, 1, 0)"
   ]
  },
  {
   "cell_type": "code",
   "execution_count": 59,
   "metadata": {},
   "outputs": [
    {
     "name": "stdout",
     "output_type": "stream",
     "text": [
      "17882\n"
     ]
    }
   ],
   "source": [
    "# Part 2 answer\n",
    "print(np.sum(overlap))"
   ]
  },
  {
   "cell_type": "code",
   "execution_count": 55,
   "metadata": {},
   "outputs": [
    {
     "name": "stdout",
     "output_type": "stream",
     "text": [
      "[[0. 0. 0. 0. 0. 0. 0. 0. 0. 0.]\n",
      " [0. 1. 0. 0. 0. 0. 0. 0. 0. 0.]\n",
      " [0. 0. 1. 0. 0. 0. 0. 0. 0. 0.]\n",
      " [0. 0. 0. 1. 0. 0. 0. 0. 0. 0.]\n",
      " [0. 0. 0. 0. 1. 0. 0. 0. 0. 0.]\n",
      " [0. 0. 0. 0. 0. 1. 0. 0. 0. 0.]\n",
      " [0. 0. 0. 0. 0. 0. 0. 0. 0. 0.]\n",
      " [0. 0. 0. 0. 0. 0. 0. 0. 0. 0.]\n",
      " [0. 0. 0. 0. 0. 0. 0. 0. 0. 0.]\n",
      " [0. 0. 0. 0. 0. 0. 0. 0. 0. 0.]]\n"
     ]
    }
   ],
   "source": [
    "a = draw_line2(np.zeros((10,10)), (1,1), (5,5))\n",
    "print(a)"
   ]
  },
  {
   "cell_type": "code",
   "execution_count": 56,
   "metadata": {},
   "outputs": [
    {
     "data": {
      "text/plain": [
       "3"
      ]
     },
     "execution_count": 56,
     "metadata": {},
     "output_type": "execute_result"
    }
   ],
   "source": [
    "min(3,5)"
   ]
  },
  {
   "cell_type": "code",
   "execution_count": null,
   "metadata": {},
   "outputs": [],
   "source": []
  }
 ],
 "metadata": {
  "interpreter": {
   "hash": "eba099742b16c1a801018f9ec5e68f8b267860b368a61108a6c02531e2422e4a"
  },
  "kernelspec": {
   "display_name": "Python 3.9.7 64-bit",
   "language": "python",
   "name": "python3"
  },
  "language_info": {
   "codemirror_mode": {
    "name": "ipython",
    "version": 3
   },
   "file_extension": ".py",
   "mimetype": "text/x-python",
   "name": "python",
   "nbconvert_exporter": "python",
   "pygments_lexer": "ipython3",
   "version": "3.9.7"
  },
  "orig_nbformat": 4
 },
 "nbformat": 4,
 "nbformat_minor": 2
}
